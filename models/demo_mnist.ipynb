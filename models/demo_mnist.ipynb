{
 "cells": [
  {
   "cell_type": "code",
   "execution_count": 1,
   "metadata": {},
   "outputs": [],
   "source": [
    "# Standard scientific Python imports\n",
    "import matplotlib.pyplot as plt\n",
    "import numpy as np\n",
    "from sklearn import datasets\n",
    "from sklearn.model_selection import train_test_split"
   ]
  },
  {
   "cell_type": "code",
   "execution_count": 2,
   "metadata": {},
   "outputs": [
    {
     "data": {
      "image/png": "[encoded data removed]",
      "text/plain": [
       "<Figure size 720x216 with 4 Axes>"
      ]
     },
     "metadata": {
      "needs_background": "light"
     },
     "output_type": "display_data"
    }
   ],
   "source": [
    "digits = datasets.load_digits()\n",
    "_, axes = plt.subplots(nrows=1, ncols=4, figsize=(10, 3))\n",
    "for ax, image, label in zip(axes, digits.images, digits.target):\n",
    "    ax.set_axis_off()\n",
    "    ax.imshow(image, cmap=plt.cm.gray_r, interpolation='nearest')\n",
    "    ax.set_title('Training: %i' % label)"
   ]
  },
  {
   "cell_type": "code",
   "execution_count": 13,
   "metadata": {},
   "outputs": [
    {
     "name": "stdout",
     "output_type": "stream",
     "text": [
      "3\n"
     ]
    },
    {
     "data": {
      "text/plain": [
       "array([-0.5   , -0.5   , -0.0625,  0.5   ,  0.5   ,  0.375 , -0.5   ,\n",
       "       -0.5   , -0.5   , -0.5   ,  0.5   ,  0.25  ,  0.125 ,  0.4375,\n",
       "       -0.4375, -0.5   , -0.5   , -0.5   ,  0.125 , -0.25  ,  0.5   ,\n",
       "        0.125 , -0.5   , -0.5   , -0.5   , -0.5   , -0.5   ,  0.0625,\n",
       "        0.5   ,  0.1875, -0.4375, -0.5   , -0.5   , -0.5   , -0.5   ,\n",
       "       -0.5   , -0.0625,  0.5   ,  0.    , -0.5   , -0.5   , -0.5   ,\n",
       "       -0.5   , -0.5   , -0.5   ,  0.5   , -0.0625, -0.5   , -0.5   ,\n",
       "       -0.5   ,  0.    , -0.25  ,  0.125 ,  0.4375, -0.375 , -0.5   ,\n",
       "       -0.5   , -0.5   ,  0.25  ,  0.5   ,  0.5   , -0.125 , -0.5   ,\n",
       "       -0.5   ])"
      ]
     },
     "execution_count": 13,
     "metadata": {},
     "output_type": "execute_result"
    }
   ],
   "source": [
    "# flatten the images\n",
    "n_samples = len(digits.images)\n",
    "data = digits.images.reshape((n_samples, -1))\n",
    "# Split data into 50% train and 50% test subsets\n",
    "X_train, X_test, y_train, y_test = train_test_split(\n",
    "    data, digits.target, test_size=0.25, shuffle=False)\n",
    "normalize = np.vectorize(lambda x: x/16-0.5)\n",
    "X_train_norm = normalize(X_train)\n",
    "X_test_norm = normalize(X_test)\n",
    "np.savez('test_set', x=X_test_norm, y=y_test)\n",
    "print(y_test[0])\n",
    "X_test_norm[0]\n",
    "        "
   ]
  },
  {
   "cell_type": "code",
   "execution_count": 4,
   "metadata": {},
   "outputs": [
    {
     "name": "stdout",
     "output_type": "stream",
     "text": [
      "Model: \"sequential\"\n",
      "_________________________________________________________________\n",
      "Layer (type)                 Output Shape              Param #   \n",
      "=================================================================\n",
      "dense (Dense)                (None, 40)                2600      \n",
      "_________________________________________________________________\n",
      "dense_1 (Dense)              (None, 20)                820       \n",
      "_________________________________________________________________\n",
      "dense_2 (Dense)              (None, 10)                210       \n",
      "=================================================================\n",
      "Total params: 3,630\n",
      "Trainable params: 3,630\n",
      "Non-trainable params: 0\n",
      "_________________________________________________________________\n"
     ]
    }
   ],
   "source": [
    "from tensorflow.keras.models import Sequential\n",
    "from tensorflow.keras.layers import Dense\n",
    "from tensorflow.keras.losses import SparseCategoricalCrossentropy\n",
    "import tensorflow as tf\n",
    "\n",
    "max_norm = tf.keras.constraints.MaxNorm(max_value=2, axis=0)\n",
    "\n",
    "model = Sequential([\n",
    "  Dense(40, activation='relu', kernel_constraint=max_norm, input_shape=(64,)),\n",
    "  Dense(20, activation='relu', kernel_constraint=max_norm),\n",
    "  Dense(10, activation='relu', kernel_constraint=max_norm),\n",
    "])\n",
    "\n",
    "model.compile(\n",
    "  optimizer='adam',\n",
    "  loss=SparseCategoricalCrossentropy(from_logits=True),\n",
    "  metrics=['accuracy'],\n",
    ")\n",
    "model.summary()"
   ]
  },
  {
   "cell_type": "code",
   "execution_count": 5,
   "metadata": {},
   "outputs": [
    {
     "name": "stdout",
     "output_type": "stream",
     "text": [
      "Train on 1347 samples\n",
      "Epoch 1/32\n",
      "1347/1347 [==============================] - 1s 401us/sample - loss: 2.1921 - accuracy: 0.2220\n",
      "Epoch 2/32\n",
      "1347/1347 [==============================] - 0s 30us/sample - loss: 1.9727 - accuracy: 0.3905\n",
      "Epoch 3/32\n",
      "1347/1347 [==============================] - 0s 29us/sample - loss: 1.6349 - accuracy: 0.5902\n",
      "Epoch 4/32\n",
      "1347/1347 [==============================] - 0s 27us/sample - loss: 1.3194 - accuracy: 0.6236\n",
      "Epoch 5/32\n",
      "1347/1347 [==============================] - 0s 28us/sample - loss: 1.1292 - accuracy: 0.6392\n",
      "Epoch 6/32\n",
      "1347/1347 [==============================] - 0s 29us/sample - loss: 1.0154 - accuracy: 0.6659\n",
      "Epoch 7/32\n",
      "1347/1347 [==============================] - 0s 27us/sample - loss: 0.9422 - accuracy: 0.6897\n",
      "Epoch 8/32\n",
      "1347/1347 [==============================] - 0s 29us/sample - loss: 0.8975 - accuracy: 0.7030\n",
      "Epoch 9/32\n",
      "1347/1347 [==============================] - 0s 32us/sample - loss: 0.8652 - accuracy: 0.7268\n",
      "Epoch 10/32\n",
      "1347/1347 [==============================] - 0s 34us/sample - loss: 0.8406 - accuracy: 0.7365\n",
      "Epoch 11/32\n",
      "1347/1347 [==============================] - 0s 33us/sample - loss: 0.8215 - accuracy: 0.7483\n",
      "Epoch 12/32\n",
      "1347/1347 [==============================] - 0s 43us/sample - loss: 0.7445 - accuracy: 0.7684\n",
      "Epoch 13/32\n",
      "1347/1347 [==============================] - 0s 27us/sample - loss: 0.6084 - accuracy: 0.7788\n",
      "Epoch 14/32\n",
      "1347/1347 [==============================] - 0s 30us/sample - loss: 0.5813 - accuracy: 0.7817\n",
      "Epoch 15/32\n",
      "1347/1347 [==============================] - 0s 27us/sample - loss: 0.5648 - accuracy: 0.7840\n",
      "Epoch 16/32\n",
      "1347/1347 [==============================] - 0s 28us/sample - loss: 0.5542 - accuracy: 0.7854\n",
      "Epoch 17/32\n",
      "1347/1347 [==============================] - 0s 28us/sample - loss: 0.5473 - accuracy: 0.7854\n",
      "Epoch 18/32\n",
      "1347/1347 [==============================] - 0s 28us/sample - loss: 0.5443 - accuracy: 0.7877\n",
      "Epoch 19/32\n",
      "1347/1347 [==============================] - 0s 29us/sample - loss: 0.5347 - accuracy: 0.7884\n",
      "Epoch 20/32\n",
      "1347/1347 [==============================] - 0s 28us/sample - loss: 0.5263 - accuracy: 0.7884\n",
      "Epoch 21/32\n",
      "1347/1347 [==============================] - 0s 28us/sample - loss: 0.5241 - accuracy: 0.7892\n",
      "Epoch 22/32\n",
      "1347/1347 [==============================] - 0s 28us/sample - loss: 0.5193 - accuracy: 0.7929\n",
      "Epoch 23/32\n",
      "1347/1347 [==============================] - 0s 28us/sample - loss: 0.5138 - accuracy: 0.7929\n",
      "Epoch 24/32\n",
      "1347/1347 [==============================] - 0s 28us/sample - loss: 0.5180 - accuracy: 0.7892\n",
      "Epoch 25/32\n",
      "1347/1347 [==============================] - 0s 29us/sample - loss: 0.5089 - accuracy: 0.7936\n",
      "Epoch 26/32\n",
      "1347/1347 [==============================] - 0s 28us/sample - loss: 0.5049 - accuracy: 0.7951\n",
      "Epoch 27/32\n",
      "1347/1347 [==============================] - 0s 30us/sample - loss: 0.5026 - accuracy: 0.7951\n",
      "Epoch 28/32\n",
      "1347/1347 [==============================] - 0s 27us/sample - loss: 0.5003 - accuracy: 0.7936\n",
      "Epoch 29/32\n",
      "1347/1347 [==============================] - 0s 29us/sample - loss: 0.4998 - accuracy: 0.7958\n",
      "Epoch 30/32\n",
      "1347/1347 [==============================] - 0s 30us/sample - loss: 0.4964 - accuracy: 0.7973\n",
      "Epoch 31/32\n",
      "1347/1347 [==============================] - 0s 28us/sample - loss: 0.4942 - accuracy: 0.7958\n",
      "Epoch 32/32\n",
      "1347/1347 [==============================] - 0s 27us/sample - loss: 0.4941 - accuracy: 0.7973\n"
     ]
    },
    {
     "data": {
      "text/plain": [
       "<tensorflow.python.keras.callbacks.History at 0x1543e6dd0>"
      ]
     },
     "execution_count": 5,
     "metadata": {},
     "output_type": "execute_result"
    }
   ],
   "source": [
    "model.fit(\n",
    "  X_train_norm, # training data\n",
    "  y_train, # training targets\n",
    "  epochs=32,\n",
    "  batch_size=32,\n",
    ")"
   ]
  },
  {
   "cell_type": "code",
   "execution_count": 6,
   "metadata": {},
   "outputs": [
    {
     "name": "stdout",
     "output_type": "stream",
     "text": [
      "[0. 0. 0. 0. 0. 0. 0. 0. 0. 0.]\n",
      "Accuracy: 74.66666666666667\n",
      "[9.019532 0.       0.       0.       0.       0.       0.       0.\n",
      " 0.       0.      ]\n"
     ]
    }
   ],
   "source": [
    "y_predicted = model.predict(X_test_norm)\n",
    "y_predicted_train = model.predict(X_train_norm)\n",
    "test_samples = y_test.shape[0]\n",
    "y_predicted_classes = [np.argmax(y) for y in y_predicted]\n",
    "correct_prediction = 0\n",
    "for i, prediction in enumerate(y_predicted_classes):\n",
    "    if prediction == y_test[i]:\n",
    "        correct_prediction += 1\n",
    "\n",
    "print(y_predicted[0])\n",
    "print(\"Accuracy: \" + str(100*correct_prediction/test_samples))\n",
    "print(y_predicted_train[0])"
   ]
  },
  {
   "cell_type": "code",
   "execution_count": 7,
   "metadata": {},
   "outputs": [
    {
     "name": "stdout",
     "output_type": "stream",
     "text": [
      "(10,)\n"
     ]
    },
    {
     "data": {
      "text/plain": [
       "<tf.Variable 'dense/kernel:0' shape=(64, 40) dtype=float32, numpy=\n",
       "array([[-0.21805263,  0.00509192, -0.19996835, ..., -0.11773328,\n",
       "         0.20862715,  0.11785208],\n",
       "       [ 0.1654403 ,  0.0238907 ,  0.0656383 , ...,  0.02616258,\n",
       "        -0.12992874, -0.17296304],\n",
       "       [ 0.47280708, -0.09551614, -0.27218607, ..., -0.00399651,\n",
       "        -0.04587622, -0.12085088],\n",
       "       ...,\n",
       "       [-0.12898229,  0.11893431, -0.01224576, ...,  0.071558  ,\n",
       "         0.29343498, -0.5950289 ],\n",
       "       [-0.262586  ,  0.27447176,  0.27483368, ...,  0.08293522,\n",
       "        -0.08032133, -0.15261543],\n",
       "       [ 0.14260419,  0.29733694,  0.0592805 , ...,  0.09281553,\n",
       "        -0.27313623, -0.3347503 ]], dtype=float32)>"
      ]
     },
     "execution_count": 7,
     "metadata": {},
     "output_type": "execute_result"
    }
   ],
   "source": [
    "weights_layer_1 = model.layers[0].weights[0]\n",
    "print(model.layers[2].weights[1].numpy().shape)\n",
    "# for weights in model.layers[0].weights[0].numpy():\n",
    "#     print(weights)\n",
    "# biases_layer_1 = model.layers[0].weights[1]\n",
    "weights_layer_1"
   ]
  },
  {
   "cell_type": "code",
   "execution_count": 8,
   "metadata": {},
   "outputs": [],
   "source": [
    "# tf.keras.backend.set_learning_phase(0) # use inference model format\\n\"\n",
    "model.save('nmist_model.h5', save_format='h5')"
   ]
  },
  {
   "cell_type": "code",
   "execution_count": null,
   "metadata": {},
   "outputs": [],
   "source": [
    "Sending packet bytes: [4, 64, 0]\n",
    "Output value 0 is 0\n",
    "Sending packet bytes: [4, 68, 0]\n",
    "Output value 1 is 0\n",
    "Sending packet bytes: [4, 72, 0]\n",
    "Output value 2 is 0.22873273\n",
    "Sending packet bytes: [4, 76, 0]\n",
    "Output value 3 is 0.20918593\n",
    "Sending packet bytes: [4, 80, 0]\n",
    "Output value 4 is 0.23884948\n",
    "Sending packet bytes: [4, 84, 0]\n",
    "Output value 5 is 0.15829709\n",
    "Sending packet bytes: [4, 88, 0]\n",
    "Output value 6 is 0\n",
    "Sending packet bytes: [4, 92, 0]\n",
    "Output value 7 is 0.33656824\n",
    "Sending packet bytes: [4, 96, 0]\n",
    "Output value 8 is 0\n",
    "Sending packet bytes: [4, 100, 0]\n",
    "Output value 9 is 0\n",
    "Sending packet bytes: [1, 128, 0]\n",
    "cmd final state is 128\n",
    "Dropping FPGA serial port session!"
   ]
  }
 ],
 "metadata": {
  "kernelspec": {
   "display_name": "Python 3",
   "language": "python",
   "name": "python3"
  },
  "language_info": {
   "codemirror_mode": {
    "name": "ipython",
    "version": 3
   },
   "file_extension": ".py",
   "mimetype": "text/x-python",
   "name": "python",
   "nbconvert_exporter": "python",
   "pygments_lexer": "ipython3",
   "version": "3.8.3"
  }
 },
 "nbformat": 4,
 "nbformat_minor": 5
}
